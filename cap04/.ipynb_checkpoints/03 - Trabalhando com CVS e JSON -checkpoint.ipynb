{
 "cells": [
  {
   "cell_type": "code",
   "execution_count": 2,
   "metadata": {},
   "outputs": [],
   "source": [
    "import csv"
   ]
  },
  {
   "cell_type": "code",
   "execution_count": 3,
   "metadata": {},
   "outputs": [],
   "source": [
    "# Criando arquivo com o pacote csv\n",
    "with open(\"numeros.csv\", \"w\") as arquivo:\n",
    "    writer = csv.writer(arquivo)\n",
    "    writer.writerow(('primeira', 'segunda', 'terceira')) \n",
    "    writer.writerow((10, 20, 30))\n",
    "    writer.writerow((99, 40, 22))"
   ]
  },
  {
   "cell_type": "code",
   "execution_count": 4,
   "metadata": {},
   "outputs": [
    {
     "name": "stdout",
     "output_type": "stream",
     "text": [
      "numero de colunas: 3\n",
      "['primeira', 'segunda', 'terceira']\n",
      "numero de colunas: 3\n",
      "['10', '20', '30']\n",
      "numero de colunas: 3\n",
      "['99', '40', '22']\n"
     ]
    }
   ],
   "source": [
    "# Lendo arquivo com o pacote csv\n",
    "with open(\"numeros.csv\", \"r\") as arquivo:\n",
    "    leitor = csv.reader(arquivo)\n",
    "    for x in leitor:\n",
    "        print('numero de colunas:', len(x))\n",
    "        print(x)"
   ]
  },
  {
   "cell_type": "code",
   "execution_count": 6,
   "metadata": {},
   "outputs": [
    {
     "name": "stdout",
     "output_type": "stream",
     "text": [
      "[['primeira', 'segunda', 'terceira'], ['10', '20', '30'], ['99', '40', '22']]\n"
     ]
    }
   ],
   "source": [
    "# Convertendo um arquivo csv em uma lista\n",
    "with open(\"numeros.csv\", \"r\") as arquivo:\n",
    "    leitor = csv.reader(arquivo)\n",
    "    dados = list(leitor)\n",
    "\n",
    "print(dados)"
   ]
  },
  {
   "cell_type": "code",
   "execution_count": 8,
   "metadata": {},
   "outputs": [
    {
     "name": "stdout",
     "output_type": "stream",
     "text": [
      "['10', '20', '30']\n",
      "['99', '40', '22']\n"
     ]
    }
   ],
   "source": [
    "# Imprimindo o arquivo a partir da posição 1\n",
    "for linha in dados[1:]:\n",
    "    print(linha)"
   ]
  },
  {
   "cell_type": "markdown",
   "metadata": {},
   "source": [
    "### Manipulando arquivos JSON"
   ]
  },
  {
   "cell_type": "code",
   "execution_count": 17,
   "metadata": {},
   "outputs": [],
   "source": [
    "# Criando um dicionario (json)\n",
    "\n",
    "dict = {\"nome\": \"Andre Luiz Ximenes\",\n",
    "       \"idade\": 33,\n",
    "       \"skills\": ['java', 'python', 'javascript', 'SQL'],\n",
    "       \"experiencia\": 6}"
   ]
  },
  {
   "cell_type": "code",
   "execution_count": 18,
   "metadata": {},
   "outputs": [
    {
     "name": "stdout",
     "output_type": "stream",
     "text": [
      "nome Andre Luiz Ximenes\n",
      "idade 33\n",
      "skills ['java', 'python', 'javascript', 'SQL']\n",
      "experiencia 6\n"
     ]
    }
   ],
   "source": [
    "for k,v in dict.items():\n",
    "    print(k,v)"
   ]
  },
  {
   "cell_type": "code",
   "execution_count": 12,
   "metadata": {},
   "outputs": [],
   "source": [
    "import json"
   ]
  },
  {
   "cell_type": "code",
   "execution_count": 19,
   "metadata": {},
   "outputs": [
    {
     "data": {
      "text/plain": [
       "'{\"nome\": \"Andre Luiz Ximenes\", \"idade\": 33, \"skills\": [\"java\", \"python\", \"javascript\", \"SQL\"], \"experiencia\": 6}'"
      ]
     },
     "execution_count": 19,
     "metadata": {},
     "output_type": "execute_result"
    }
   ],
   "source": [
    "json.dumps(dict)"
   ]
  },
  {
   "cell_type": "code",
   "execution_count": 26,
   "metadata": {},
   "outputs": [],
   "source": [
    "# Trabalhando com JSON real da internet\n",
    "from urllib.request import urlopen\n",
    "\n",
    "response = urlopen(\"https://viacep.com.br/ws/54735782/json/\").read().decode(\"utf8\")\n",
    "dados = json.loads(response)"
   ]
  },
  {
   "cell_type": "code",
   "execution_count": 28,
   "metadata": {},
   "outputs": [
    {
     "name": "stdout",
     "output_type": "stream",
     "text": [
      "{'cep': '54735-782', 'logradouro': 'Rua Coronel José Duarte', 'complemento': '', 'bairro': 'Centro', 'localidade': 'São Lourenço da Mata', 'uf': 'PE', 'unidade': '', 'ibge': '2613701', 'gia': ''}\n"
     ]
    }
   ],
   "source": [
    "print(dados)"
   ]
  },
  {
   "cell_type": "code",
   "execution_count": 31,
   "metadata": {},
   "outputs": [
    {
     "name": "stdout",
     "output_type": "stream",
     "text": [
      "Rua: Rua Coronel José Duarte\n",
      "CEP: 54735-782\n",
      "Cidade: São Lourenço da Mata\n",
      "Bairro: Centro\n"
     ]
    }
   ],
   "source": [
    "print('Rua:', dados['logradouro'])\n",
    "print('CEP:', dados['cep'])\n",
    "print('Cidade:', dados['localidade'])\n",
    "print('Bairro:', dados['bairro'])"
   ]
  },
  {
   "cell_type": "code",
   "execution_count": null,
   "metadata": {},
   "outputs": [],
   "source": []
  }
 ],
 "metadata": {
  "kernelspec": {
   "display_name": "Python 3",
   "language": "python",
   "name": "python3"
  },
  "language_info": {
   "codemirror_mode": {
    "name": "ipython",
    "version": 3
   },
   "file_extension": ".py",
   "mimetype": "text/x-python",
   "name": "python",
   "nbconvert_exporter": "python",
   "pygments_lexer": "ipython3",
   "version": "3.7.4"
  }
 },
 "nbformat": 4,
 "nbformat_minor": 4
}
