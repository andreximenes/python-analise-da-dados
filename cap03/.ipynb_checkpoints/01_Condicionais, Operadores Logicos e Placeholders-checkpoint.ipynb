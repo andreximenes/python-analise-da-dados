{
 "cells": [
  {
   "cell_type": "code",
   "execution_count": 12,
   "metadata": {},
   "outputs": [
    {
     "name": "stdin",
     "output_type": "stream",
     "text": [
      "Digite o nome da matéria: Geografia\n",
      "Digite a nota (0 a 10): 7\n",
      "Digite o semestre (1 a 4): 4\n"
     ]
    },
    {
     "name": "stdout",
     "output_type": "stream",
     "text": [
      "Parabens, você está aprovado na matéria Geografia com nota '7'\n"
     ]
    }
   ],
   "source": [
    "disciplina = input('Digite o nome da matéria:')\n",
    "nota = input('Digite a nota (0 a 10):')\n",
    "semestre = input('Digite o semestre (1 a 4):')\n",
    "\n",
    "if disciplina == 'Geografia' and nota >= '7'  and int(semestre) != 1:\n",
    "    print('Parabens, você está aprovado na matéria %s com nota %r' %(disciplina, nota))\n",
    "else:\n",
    "    print('Você não foi aprovado')\n"
   ]
  },
  {
   "cell_type": "code",
   "execution_count": null,
   "metadata": {},
   "outputs": [],
   "source": [
    "listaB = [32,53,85,10,15,17,19]\n",
    "soma = 0\n",
    "for i in listaB:\n",
    "    double_i = i * 2\n",
    "    soma += double_i\n",
    "\n",
    "soma"
   ]
  }
 ],
 "metadata": {
  "kernelspec": {
   "display_name": "Python 3",
   "language": "python",
   "name": "python3"
  },
  "language_info": {
   "codemirror_mode": {
    "name": "ipython",
    "version": 3
   },
   "file_extension": ".py",
   "mimetype": "text/x-python",
   "name": "python",
   "nbconvert_exporter": "python",
   "pygments_lexer": "ipython3",
   "version": "3.7.4"
  }
 },
 "nbformat": 4,
 "nbformat_minor": 4
}
